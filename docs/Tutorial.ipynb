{
  "nbformat": 4,
  "nbformat_minor": 0,
  "metadata": {
    "colab": {
      "name": "Tutorial.ipynb",
      "provenance": [],
      "collapsed_sections": [],
      "authorship_tag": "ABX9TyN+j/KtKk5j0AwnW8ETi2iz",
      "include_colab_link": true
    },
    "kernelspec": {
      "name": "python3",
      "display_name": "Python 3"
    },
    "language_info": {
      "name": "python"
    }
  },
  "cells": [
    {
      "cell_type": "markdown",
      "metadata": {
        "id": "view-in-github",
        "colab_type": "text"
      },
      "source": [
        "<a href=\"https://colab.research.google.com/github/mihirdeo16/ab-testing/blob/main/docs/Tutorial.ipynb\" target=\"_parent\"><img src=\"https://colab.research.google.com/assets/colab-badge.svg\" alt=\"Open In Colab\"/></a>"
      ]
    },
    {
      "cell_type": "markdown",
      "source": [
        "# A/B Testing\n",
        "\n",
        "A library designed to help the Data scientist, Developer & Data analyst to quickly build report and analysis the performance of the A/B test. Link to GitHub and Pypi can be found below.\n",
        "\n",
        "+ [GitHub-ab-testing](https://github.com/mihirdeo16/ab-testing)\n",
        "\n",
        "+ [PyPi-ab-testing](https://pypi.org/project/ab-testing-analysis/)"
      ],
      "metadata": {
        "id": "RqIdTVaIOSoj"
      }
    },
    {
      "cell_type": "code",
      "execution_count": null,
      "metadata": {
        "id": "yaarZzX3bsek"
      },
      "outputs": [],
      "source": [
        "!pip install ab-testing-analysis"
      ]
    },
    {
      "cell_type": "markdown",
      "source": [
        "Import the ABTest class, which has methods to build the A/B report.\n",
        "----\n",
        "In this usecase will use a fake dataset, from Dataset class to create the users and related information, by importing the ``Dataset`` class"
      ],
      "metadata": {
        "id": "q_yyUxVAOwKE"
      }
    },
    {
      "cell_type": "code",
      "source": [
        "# Importing the library\n",
        "from ab_testing import ABTest\n",
        "from ab_testing.data import Dataset"
      ],
      "metadata": {
        "id": "w2kGgn8ZNjjN"
      },
      "execution_count": 2,
      "outputs": []
    },
    {
      "cell_type": "code",
      "source": [
        "# Creating the Dataframe of Users, their response and Group they belong to\n",
        "df = Dataset().data()\n",
        "df.head()"
      ],
      "metadata": {
        "colab": {
          "base_uri": "https://localhost:8080/",
          "height": 206
        },
        "id": "xWqP4FKHNqPr",
        "outputId": "3665adc0-2606-48df-a3ce-7af5abf40a0a"
      },
      "execution_count": 3,
      "outputs": [
        {
          "output_type": "execute_result",
          "data": {
            "text/plain": [
              "        Users  Response Group\n",
              "0  SVYJC9AMI8         0     A\n",
              "1  Y2LO0CJO8X         0     A\n",
              "2  H6YDX4KN91         0     A\n",
              "3  11NP7K88R2         0     A\n",
              "4  0KFN2MXOYG         0     A"
            ],
            "text/html": [
              "\n",
              "  <div id=\"df-0161ebe9-e3fc-40b6-8412-a59302224142\">\n",
              "    <div class=\"colab-df-container\">\n",
              "      <div>\n",
              "<style scoped>\n",
              "    .dataframe tbody tr th:only-of-type {\n",
              "        vertical-align: middle;\n",
              "    }\n",
              "\n",
              "    .dataframe tbody tr th {\n",
              "        vertical-align: top;\n",
              "    }\n",
              "\n",
              "    .dataframe thead th {\n",
              "        text-align: right;\n",
              "    }\n",
              "</style>\n",
              "<table border=\"1\" class=\"dataframe\">\n",
              "  <thead>\n",
              "    <tr style=\"text-align: right;\">\n",
              "      <th></th>\n",
              "      <th>Users</th>\n",
              "      <th>Response</th>\n",
              "      <th>Group</th>\n",
              "    </tr>\n",
              "  </thead>\n",
              "  <tbody>\n",
              "    <tr>\n",
              "      <th>0</th>\n",
              "      <td>SVYJC9AMI8</td>\n",
              "      <td>0</td>\n",
              "      <td>A</td>\n",
              "    </tr>\n",
              "    <tr>\n",
              "      <th>1</th>\n",
              "      <td>Y2LO0CJO8X</td>\n",
              "      <td>0</td>\n",
              "      <td>A</td>\n",
              "    </tr>\n",
              "    <tr>\n",
              "      <th>2</th>\n",
              "      <td>H6YDX4KN91</td>\n",
              "      <td>0</td>\n",
              "      <td>A</td>\n",
              "    </tr>\n",
              "    <tr>\n",
              "      <th>3</th>\n",
              "      <td>11NP7K88R2</td>\n",
              "      <td>0</td>\n",
              "      <td>A</td>\n",
              "    </tr>\n",
              "    <tr>\n",
              "      <th>4</th>\n",
              "      <td>0KFN2MXOYG</td>\n",
              "      <td>0</td>\n",
              "      <td>A</td>\n",
              "    </tr>\n",
              "  </tbody>\n",
              "</table>\n",
              "</div>\n",
              "      <button class=\"colab-df-convert\" onclick=\"convertToInteractive('df-0161ebe9-e3fc-40b6-8412-a59302224142')\"\n",
              "              title=\"Convert this dataframe to an interactive table.\"\n",
              "              style=\"display:none;\">\n",
              "        \n",
              "  <svg xmlns=\"http://www.w3.org/2000/svg\" height=\"24px\"viewBox=\"0 0 24 24\"\n",
              "       width=\"24px\">\n",
              "    <path d=\"M0 0h24v24H0V0z\" fill=\"none\"/>\n",
              "    <path d=\"M18.56 5.44l.94 2.06.94-2.06 2.06-.94-2.06-.94-.94-2.06-.94 2.06-2.06.94zm-11 1L8.5 8.5l.94-2.06 2.06-.94-2.06-.94L8.5 2.5l-.94 2.06-2.06.94zm10 10l.94 2.06.94-2.06 2.06-.94-2.06-.94-.94-2.06-.94 2.06-2.06.94z\"/><path d=\"M17.41 7.96l-1.37-1.37c-.4-.4-.92-.59-1.43-.59-.52 0-1.04.2-1.43.59L10.3 9.45l-7.72 7.72c-.78.78-.78 2.05 0 2.83L4 21.41c.39.39.9.59 1.41.59.51 0 1.02-.2 1.41-.59l7.78-7.78 2.81-2.81c.8-.78.8-2.07 0-2.86zM5.41 20L4 18.59l7.72-7.72 1.47 1.35L5.41 20z\"/>\n",
              "  </svg>\n",
              "      </button>\n",
              "      \n",
              "  <style>\n",
              "    .colab-df-container {\n",
              "      display:flex;\n",
              "      flex-wrap:wrap;\n",
              "      gap: 12px;\n",
              "    }\n",
              "\n",
              "    .colab-df-convert {\n",
              "      background-color: #E8F0FE;\n",
              "      border: none;\n",
              "      border-radius: 50%;\n",
              "      cursor: pointer;\n",
              "      display: none;\n",
              "      fill: #1967D2;\n",
              "      height: 32px;\n",
              "      padding: 0 0 0 0;\n",
              "      width: 32px;\n",
              "    }\n",
              "\n",
              "    .colab-df-convert:hover {\n",
              "      background-color: #E2EBFA;\n",
              "      box-shadow: 0px 1px 2px rgba(60, 64, 67, 0.3), 0px 1px 3px 1px rgba(60, 64, 67, 0.15);\n",
              "      fill: #174EA6;\n",
              "    }\n",
              "\n",
              "    [theme=dark] .colab-df-convert {\n",
              "      background-color: #3B4455;\n",
              "      fill: #D2E3FC;\n",
              "    }\n",
              "\n",
              "    [theme=dark] .colab-df-convert:hover {\n",
              "      background-color: #434B5C;\n",
              "      box-shadow: 0px 1px 3px 1px rgba(0, 0, 0, 0.15);\n",
              "      filter: drop-shadow(0px 1px 2px rgba(0, 0, 0, 0.3));\n",
              "      fill: #FFFFFF;\n",
              "    }\n",
              "  </style>\n",
              "\n",
              "      <script>\n",
              "        const buttonEl =\n",
              "          document.querySelector('#df-0161ebe9-e3fc-40b6-8412-a59302224142 button.colab-df-convert');\n",
              "        buttonEl.style.display =\n",
              "          google.colab.kernel.accessAllowed ? 'block' : 'none';\n",
              "\n",
              "        async function convertToInteractive(key) {\n",
              "          const element = document.querySelector('#df-0161ebe9-e3fc-40b6-8412-a59302224142');\n",
              "          const dataTable =\n",
              "            await google.colab.kernel.invokeFunction('convertToInteractive',\n",
              "                                                     [key], {});\n",
              "          if (!dataTable) return;\n",
              "\n",
              "          const docLinkHtml = 'Like what you see? Visit the ' +\n",
              "            '<a target=\"_blank\" href=https://colab.research.google.com/notebooks/data_table.ipynb>data table notebook</a>'\n",
              "            + ' to learn more about interactive tables.';\n",
              "          element.innerHTML = '';\n",
              "          dataTable['output_type'] = 'display_data';\n",
              "          await google.colab.output.renderOutput(dataTable, element);\n",
              "          const docLink = document.createElement('div');\n",
              "          docLink.innerHTML = docLinkHtml;\n",
              "          element.appendChild(docLink);\n",
              "        }\n",
              "      </script>\n",
              "    </div>\n",
              "  </div>\n",
              "  "
            ]
          },
          "metadata": {},
          "execution_count": 3
        }
      ]
    },
    {
      "cell_type": "markdown",
      "source": [
        "## Data\n",
        "Dataframe contain the, information on following things\n",
        "+ **Response** from the user on test either **1** or **0** which indicate the whether he converted or not converted in the test.\n",
        "+ **Group** column which indicate in which group/test this user belong to A or B."
      ],
      "metadata": {
        "id": "8qjEOBnjvB-D"
      }
    },
    {
      "cell_type": "code",
      "source": [
        "print('Total number of the Users/records: ',df.shape[0])\n",
        "print(f'Number of Groups, {df.Group.nunique()} and their labels {df.Group.unique()}')\n",
        "print(f'Response types, {df.Response.unique()}','\\n')\n",
        "\n",
        "print('Group \"A\" response distribution')\n",
        "print(df[df.Group=='A'].Response.value_counts())\n",
        "print('\\nGroup \"B\" response distribution')\n",
        "print(df[df.Group=='B'].Response.value_counts())"
      ],
      "metadata": {
        "colab": {
          "base_uri": "https://localhost:8080/"
        },
        "id": "cECE1sE8O5ju",
        "outputId": "1549f10e-e784-42a5-ae7b-b74fbd92c2d1"
      },
      "execution_count": 4,
      "outputs": [
        {
          "output_type": "stream",
          "name": "stdout",
          "text": [
            "Total number of the Users/records:  1000\n",
            "Number of Groups, 2 and their labels ['A' 'B']\n",
            "Response types, [0 1] \n",
            "\n",
            "Group \"A\" response distribution\n",
            "0    387\n",
            "1    113\n",
            "Name: Response, dtype: int64\n",
            "\n",
            "Group \"B\" response distribution\n",
            "0    379\n",
            "1    121\n",
            "Name: Response, dtype: int64\n"
          ]
        }
      ]
    },
    {
      "cell_type": "markdown",
      "source": [
        "### Conversion rate report\n",
        "Class parameters,\n",
        "\n",
        "+ df = A dataframe which has Users, Response column and Group column\n",
        "+ response_column = A column which has 1 or 0 correspond for the users which being converted or not respectively.\n",
        "+ group_column = A column name which indicate the user belong to which group **A** or **B**"
      ],
      "metadata": {
        "id": "kswac6zKPAFk"
      }
    },
    {
      "cell_type": "code",
      "source": [
        "ab_obj = ABTest(df,response_column='Response',group_column='Group')\n",
        "\n",
        "print(ab_obj.conversion_rate())"
      ],
      "metadata": {
        "colab": {
          "base_uri": "https://localhost:8080/"
        },
        "id": "u30U6XZrO7_R",
        "outputId": "5f728097-c8cb-4b96-d2cf-4f885e35597b"
      },
      "execution_count": 5,
      "outputs": [
        {
          "output_type": "stream",
          "name": "stdout",
          "text": [
            "  Conversion Rate Standard Deviation Standard Error\n",
            "A          22.60%              0.418         0.0187\n",
            "B          24.20%              0.428         0.0192\n"
          ]
        }
      ]
    },
    {
      "cell_type": "markdown",
      "source": [
        "### Significance test\n",
        "\n",
        "To determine whether the obtained result made a significant difference or not by evaluating the P-Value. \n",
        "\n",
        "*Note: By default the P-Value is being set to 0.05, but can be set by passing ``threshold`` parameter. As in different scenarios, the threshold varies.*\n",
        "\n",
        "``significance_test`` api/function provides the following information :\n",
        "+ P-Value and z-statistic of the results.\n",
        "+ Confidence Intervals of both groups.\n",
        "+ Final results with conclusive remarks on significance result.\n"
      ],
      "metadata": {
        "id": "0zLD9bLOo0PV"
      }
    },
    {
      "cell_type": "code",
      "source": [
        "print(ab_obj.significance_test(threshold=0.58))"
      ],
      "metadata": {
        "colab": {
          "base_uri": "https://localhost:8080/"
        },
        "id": "CGMZfcqMozYy",
        "outputId": "1bfb9fc8-5417-4e28-d020-5aa76b99ea29"
      },
      "execution_count": 9,
      "outputs": [
        {
          "output_type": "stream",
          "name": "stdout",
          "text": [
            "z statistic: -0.60\tp-value: 0.550\n",
            "Confidence Interval 95% for A group: 21.56% to 23.64%\n",
            "Confidence Interval 95% for B group: 23.14% to 25.26%\n",
            "\n",
            "The Group A able to perform significantly different than group B.\n",
            "The P-Value of the test is 0.5501462751198115 which is below 0.58, hence Null hypothesis Hₒ can be rejected.\n"
          ]
        }
      ]
    },
    {
      "cell_type": "markdown",
      "source": [
        "## END"
      ],
      "metadata": {
        "id": "dBQDvhkWPEtQ"
      }
    }
  ]
}